{
  "nbformat": 4,
  "nbformat_minor": 0,
  "metadata": {
    "colab": {
      "provenance": [],
      "name": "pbo tugas3.ipynb",
      "authorship_tag": "ABX9TyMfzRD6SJokspHv6F6EdH0G",
      "include_colab_link": true
    },
    "kernelspec": {
      "name": "python3",
      "display_name": "Python 3"
    },
    "language_info": {
      "name": "python"
    }
  },
  "cells": [
    {
      "cell_type": "markdown",
      "metadata": {
        "id": "view-in-github",
        "colab_type": "text"
      },
      "source": [
        "<a href=\"https://colab.research.google.com/github/zahara-23/tugaspbo3/blob/main/pbo_tugas3.ipynb\" target=\"_parent\"><img src=\"https://colab.research.google.com/assets/colab-badge.svg\" alt=\"Open In Colab\"/></a>"
      ]
    },
    {
      "cell_type": "code",
      "execution_count": null,
      "metadata": {
        "colab": {
          "base_uri": "https://localhost:8080/"
        },
        "id": "bvSLt0siGlyR",
        "outputId": "c8251224-488d-43cf-ccd7-f3ef972d22ca"
      },
      "outputs": [
        {
          "output_type": "stream",
          "name": "stdout",
          "text": [
            "Budi details:\n",
            "Rambut: Ikal\n",
            "Warna Rambut: Hitam\n",
            "\n",
            "Michael details:\n",
            "Rambut: Lurus\n",
            "Warna Rambut: Pirang\n"
          ]
        }
      ],
      "source": [
        "# Class Variable\n",
        "person = 'Person'\n",
        "\n",
        "class Person:\n",
        "    # The init method or constructor\n",
        "    def __init__(self, rambut, warna):\n",
        "        # Instance Variable\n",
        "        self.rambut = rambut\n",
        "        self.warna = warna\n",
        "\n",
        "# Objects\n",
        "Budi = Person(\"Ikal\", \"Hitam\")\n",
        "Michael = Person(\"Lurus\", \"Pirang\")\n",
        "\n",
        "print('Budi details:')\n",
        "print('Rambut:', Budi.rambut)\n",
        "print('Warna Rambut:', Budi.warna)\n",
        "\n",
        "print('\\nMichael details:')\n",
        "print('Rambut:', Michael.rambut)\n",
        "print('Warna Rambut:', Michael.warna)\n"
      ]
    }
  ]
}